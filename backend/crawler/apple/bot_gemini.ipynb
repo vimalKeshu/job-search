{
 "cells": [
  {
   "cell_type": "code",
   "execution_count": 1,
   "metadata": {},
   "outputs": [
    {
     "name": "stderr",
     "output_type": "stream",
     "text": [
      "/Users/vimal.chaudhari/.pyenv/versions/3.10.13/lib/python3.10/site-packages/tqdm/auto.py:21: TqdmWarning: IProgress not found. Please update jupyter and ipywidgets. See https://ipywidgets.readthedocs.io/en/stable/user_install.html\n",
      "  from .autonotebook import tqdm as notebook_tqdm\n"
     ]
    }
   ],
   "source": [
    "import os\n",
    "\n",
    "from autogen import ConversableAgent\n",
    "from bs4 import BeautifulSoup\n",
    "\n",
    "# Define your model configuration\n",
    "api_key = os.environ.get(\"GOOGLE_API_KEY\")\n",
    "config_list_gemini = [{\"model\": \"gemini-1.5-flash-latest\",\"api_key\": api_key,\"api_type\": \"google\"}]\n",
    "\n",
    "llm_config = {\"config_list\": config_list_gemini,\"seed\": 42}\n",
    "apple_html_jobs_dir = '/Users/vimal.chaudhari/Downloads/vimalKeshu/job-search/backend/crawler/apple/jobs/'\n",
    "apple_json_jobs_dir = '/Users/vimal.chaudhari/Downloads/vimalKeshu/job-search/backend/crawler/apple/jobs/json'\n",
    "apple_job_url = \"https://jobs.apple.com/en-in/details/{}\"\n",
    "\n",
    "html_parser_prompt = '''\n",
    "You are html parser. \n",
    "you here to retrieve job title, job Summary, job Description, job Key Qualifications, job Preferred Qualifications, job Education & Experience, job Additional Requirements, job Pay & Benefits text information from the given html page if present.\n",
    "Provide the answer in below python parsable json string:\n",
    "{\"title\": job title as string else empty string, \"summary\": job summary as string else empty string, \"description\", job description as string else empty string, \"key_qualifications\": job Key Qualifications as string else empty string, \"preferred_qualifications\": job preferred qualifications as string else empty string, \"education_experience\": job Education & Experience as string else empty string, \"additional_requirements\": job Additional Requirements as string else empty string, \"pay_benefits\":job Pay and Benefits as string else empty string}\n",
    "Do not ask for other information. If you don't get information, return answer with empty json.\n",
    "'''\n",
    "\n",
    "html_parser_agent = ConversableAgent(\n",
    "    name=\"html_parser\",\n",
    "    system_message=html_parser_prompt,\n",
    "    llm_config=llm_config,\n",
    "    code_execution_config=False,\n",
    "    human_input_mode=\"NEVER\",\n",
    "    max_consecutive_auto_reply=1\n",
    ")"
   ]
  },
  {
   "cell_type": "code",
   "execution_count": 3,
   "metadata": {},
   "outputs": [
    {
     "name": "stderr",
     "output_type": "stream",
     "text": [
      "WARNING: All log messages before absl::InitializeLog() is called are written to STDERR\n",
      "I0000 00:00:1722141039.256517 6955841 config.cc:230] gRPC experiments enabled: call_status_override_on_cancellation, event_engine_dns, event_engine_listener, http2_stats_fix, monitoring_experiment, pick_first_new, trace_record_callops, work_serializer_clears_time_cache\n",
      "I0000 00:00:1722141039.269534 6955841 check_gcp_environment_no_op.cc:29] ALTS: Platforms other than Linux and Windows are not supported\n"
     ]
    },
    {
     "name": "stdout",
     "output_type": "stream",
     "text": [
      "```json\n",
      "{\"title\": \"RF Hardware Full Stack Developer\", \"summary\": \"Apple is where individual imaginations gather together, committing to the values that lead to great work. Every new product we build, service we create, or Apple Store experience we deliver is the result of us making each other’s ideas stronger. That happens because every one of us shares a belief that we can make something wonderful and share it with the world, changing lives for the better. It’s the diversity of our people and their thinking that inspires the innovation that runs through everything we do. When we bring everybody in, we can do the best work of our lives. Here, you’ll do more than join something — you’ll add something.\\n\\nJoin us to help deliver the next groundbreaking Apple product. Do you love working on challenges that no one has solved yet? As a member of our dynamic group, you will have the unique and rewarding opportunity to craft upcoming products that will delight and inspire millions of Apple’s customers every single day. As a Full Stack Developer, you will be a part of a team that is responsible for the full software development process, from conception to deployment.\", \"description\": \"Work on back-end and front-end of systems and develop fully fledged platforms (with databases, server, and clients). You will participate in the design and creation of scalable software tool, web application, data storage server and effective APIs. Work with teams to ideate software solutions, test software to ensure responsiveness and efficiency. If you are comfortable with both front-end and back-end coding languages, development frameworks, and third-party libraries, we would like to meet you.\", \"key_qualifications\": \"\", \"preferred_qualifications\": \"Master's Degree in EE/CENG/CS\\nExperience with AI/ML frameworks (eg. PyTorch, Tensorflow or equivalent)\\nExperience with cloud platforms like AWS or GCP\\nExperience with regression CI/CD pipelines\", \"education_experience\": \"\", \"additional_requirements\": \"\", \"pay_benefits\": \"At Apple, base pay is one part of our total compensation package and is determined within a range. This provides the opportunity to progress as you grow and develop within a role. The base pay range for this role is between $143,100 and $264,200, and your base pay will depend on your skills, qualifications, experience, and location.<br/><br/>Apple employees also have the opportunity to become an Apple shareholder through participation in Apple’s discretionary employee stock programs. Apple employees are eligible for discretionary restricted stock unit awards, and can purchase Apple stock at a discount if voluntarily participating in Apple’s Employee Stock Purchase Plan. You’ll also receive benefits including: Comprehensive medical and dental coverage, retirement benefits, a range of discounted products and free services, and for formal education related to advancing your career at Apple, reimbursement for certain educational expenses — including tuition. Additionally, this role might be eligible for discretionary bonuses or commission payments as well as relocation. <a href=\\\"https://www.apple.com/careers/us/benefits.html\\\" target=\\\"_blank\\\"><span>Learn more</span></a> about Apple Benefits.<br/><br/>Note: Apple benefit, compensation and employee stock programs are subject to eligibility requirements and other terms of the applicable plan or program.<br/>\"}\n",
      "```\n"
     ]
    },
    {
     "name": "stderr",
     "output_type": "stream",
     "text": [
      "I0000 00:00:1722141049.752456 6955841 check_gcp_environment_no_op.cc:29] ALTS: Platforms other than Linux and Windows are not supported\n"
     ]
    },
    {
     "name": "stdout",
     "output_type": "stream",
     "text": [
      "```json\n",
      "{\"title\": \"AIML - Sr Engineering Program Manager, Responsible AI\", \"summary\": \"Apple is where individual imaginations gather together, committing to the values that lead to great work. Every new product we build, service we create, or Apple Store experience we deliver is the result of us making each other’s ideas stronger. That happens because every one of us shares a belief that we can make something wonderful and share it with the world, changing lives for the better. It’s the diversity of our people and their thinking that inspires the innovation that runs through everything we do. When we bring everybody in, we can do the best work of our lives. Here, you’ll do more than join something — you’ll add something.\\n\\nDo you love taking on challenges that create a positive impact? Are you passionate about empowering many ground-breaking intelligent experiences to be made? We’re looking for people like you! \\n\\nThe AIML team is crafting groundbreaking technology, and we are looking for candidates with experience, passion and a track record in shipping responsible technology and inclusive products. This role will be responsible for supporting and implementing AIML’s strategy to ensure the ethical and safe deployment of machine learning models. Applying your expertise in these areas, you will collaborate with cross-functional teams to develop and implement policies, standards and processes that align with Apple’s values to implement a plan for the safety lifecycle of machine learning models. As the program manager in this space, you will play a key role in building a culture of technology responsibility, encouraging transparency, and mitigating risks associated with the development of machine learning models. The ideal candidate for this role will have extraordinary program management skills with shipping ML products and the ability to influence across all levels of the organization.\", \"description\": \"You will coordinate and drive early engagements on product architecture, feature definition and program execution. This includes collaborating with all partner organizations relevant for a project, You will: \\n\\n-  Communicate: Provide clear, timely and objective communication, including regular program status updates and critical issues as needed to executive team \\n\\n-  Coordinate: Coordinate discussions and break down complex issues into discussion topics to drive engineering and design alignment with support from project team, maintaining an orientation toward teamwork and collaboration \\n\\n-  Plan: Create and manage project timelines with clear dependencies, critical path and systematic methodology to communicate status. Manage risks and mitigations, and re- plan as events warrant. Drive alignment across the organization and between teams \\n\\n-  Execute: Drive on time delivery and deployment, identifying development and feasibility needs, establishing achievements for checkpoints and status updates \\n\\n-  Problem solve: Proactively identify issues and solutions, and marshal resources vital to attack and resolve. Coordinate with teams to identify issues, prioritize tasks and track risks to schedule and product quality, including cross-functional dependencies\", \"key_qualifications\": \"\", \"preferred_qualifications\": \"BS, MS or PHD in computer science or engineering or other technical area, or experience in related field\", \"education_experience\": \"\", \"additional_requirements\": \"\", \"pay_benefits\": \"At Apple, base pay is one part of our total compensation package and is determined within a range. This provides the opportunity to progress as you grow and develop within a role. The base pay range for this role is between $157,000 and $278,900, and your base pay will depend on your skills, qualifications, experience, and location.\\n\\nApple employees also have the opportunity to become an Apple shareholder through participation in Apple’s discretionary employee stock programs. Apple employees are eligible for discretionary restricted stock unit awards, and can purchase Apple stock at a discount if voluntarily participating in Apple’s Employee Stock Purchase Plan. You’ll also receive benefits including: Comprehensive medical and dental coverage, retirement benefits, a range of discounted products and free services, and for formal education related to advancing your career at Apple, reimbursement for certain educational expenses — including tuition. Additionally, this role might be eligible for discretionary bonuses or commission payments as well as relocation. <a href=\\\"https://www.apple.com/careers/us/benefits.html\\\" target=\\\"_blank\\\"><span>Learn more</span></a> about Apple Benefits.\\n\\nNote: Apple benefit, compensation and employee stock programs are subject to eligibility requirements and other terms of the applicable plan or program.\"}\n",
      "```\n"
     ]
    },
    {
     "name": "stderr",
     "output_type": "stream",
     "text": [
      "I0000 00:00:1722141065.524704 6955841 check_gcp_environment_no_op.cc:29] ALTS: Platforms other than Linux and Windows are not supported\n"
     ]
    },
    {
     "name": "stdout",
     "output_type": "stream",
     "text": [
      "```json\n",
      "{\"title\": \"Algorithm Optimization Engineer - ANE\", \"summary\": \"The Video Computer Vision org is a centralized applied research and engineering organization responsible for developing real-time on-device Computer Vision and Machine Perception technologies across Apple products. The team is working on exciting technologies for current and future Apple products. We balance research and product to deliver Apple quality, state-of-the-art experiences, innovating through the full stack, and partnering with HW, SW and Algorithm teams to deliver optimized solutions that brings our vision to life. \\n\\nWe're looking for highly self-motivated and hard-working individual with expertise in optimizing machine learning and computer vision algorithms that run on ANE, GPU and CPU to join our team to deliver new technologies and experiences for Apple’s current and next generation products. Are your ready to be apart of the next big thing at Apple?\", \"description\": \"Work on 3D algorithms performance optimization for Apple platforms.\\n\\nAnalyze ML network bottleneck in the mainstream neural processor/GPU/CPU.\\n\\nCollaborate with ML network compiler team and hardware architecture team for both short term on-device ML model optimization and long term hardware design strategy.\", \"key_qualifications\": \"Rich experience with popular CNN, Transformer, and Diffusion networks and their energy-efficient variants for mobile and embedded vision applications.\\nFamiliar with popular ML toolboxes (PyTorch, TensorFlow etc.) and their built in techniques for network deployment (TensorRT etc.)\\nFamiliar with ML network optimization techniques, such as quantization, pruning, distillation, low-rank factorization and compression methods.\\nBonus Qualifications:\\nFamiliar with Apple ML stack (ANE, CoreML, MPS/Metal)\\nFamiliar with 3D computer vision, multi-view geometry, SfM etc.\", \"preferred_qualifications\": \"\", \"education_experience\": \"BS and a minimum of 10 years relevant industry experience\", \"additional_requirements\": \"\", \"pay_benefits\": \"At Apple, base pay is one part of our total compensation package and is determined within a range. This provides the opportunity to progress as you grow and develop within a role. The base pay range for this role is between $175,800 and $312,200, and your base pay will depend on your skills, qualifications, experience, and location.\\n\\nApple employees also have the opportunity to become an Apple shareholder through participation in Apple’s discretionary employee stock programs. Apple employees are eligible for discretionary restricted stock unit awards, and can purchase Apple stock at a discount if voluntarily participating in Apple’s Employee Stock Purchase Plan. You’ll also receive benefits including: Comprehensive medical and dental coverage, retirement benefits, a range of discounted products and free services, and for formal education related to advancing your career at Apple, reimbursement for certain educational expenses — including tuition. Additionally, this role might be eligible for discretionary bonuses or commission payments as well as relocation. <a href=\\\"https://www.apple.com/careers/us/benefits.html\\\" target=\\\"_blank\\\">Learn more</a> about Apple Benefits.\\n\\nNote: Apple benefit, compensation and employee stock programs are subject to eligibility requirements and other terms of the applicable plan or program.\"}\n",
      "```\n"
     ]
    },
    {
     "name": "stderr",
     "output_type": "stream",
     "text": [
      "I0000 00:00:1722141076.393336 6955841 check_gcp_environment_no_op.cc:29] ALTS: Platforms other than Linux and Windows are not supported\n"
     ]
    },
    {
     "name": "stdout",
     "output_type": "stream",
     "text": [
      "```json\n",
      "{\"title\": \"Build & Integration Engineering Manager\", \"summary\": \"At Apple, we create a unique blend of hardware and software to bring an industry leading customer experience to the world. To do that, things have to work seamlessly together to achieve more than any one piece could on its own.\\n\\nThe Software Build & Integration team is at core of how we create and iterate on this experience day to day at Apple. We are responsible for delivering the state-of-the-art operating systems and applications to Apple customers. As a leader, your role focuses on empowering build engineers to influence new feature integration into Apple software, by collaborating with engineers from Software, Hardware, Localization, QA, and Project Management teams. You will also be engaged with functions across the organization to shape the future of what it means to be a build engineer and how we can further scale Apple’s build operations. Imagine what we could do together for the future of Apple’s software.\", \"description\": \"- Drive operational excellence for daily production builds of Apple software\\n- Develop team to respond to incidents, escalate issues, and run retrospectives\\n- Monitor metrics, report trends, and innovate on operational workflows\\n- Work cross functionally with teams across Apple on complex integration efforts\\n- Hire, inspire, coach, train, and develop engineers to take on new responsibilities in integrating software systems\\n- Lead discussions and drive efforts to enhance the reliability and scale of our production build operations\\n- Work with project management teams to determine engineering priorities and resource engineering efforts\\n- Engage partners in planning of compute, storage, and headcount for operational support\\n- Foster an inclusive work environment that values diverse perspectives\\n- Innovate and execute on our hiring and training processes\", \"key_qualifications\": \"- Strong software development and testing experience\\n- Strong critical thinking and problem solving skills with a focus on providing hands on support to your team\\n- Proven ability to inspire, coach, train, and develop team members to consistently provide exceptional customer service\\n- Experience adapting to challenges, providing support, and leading by example in a constantly changing environment\\n- Proven track record leading cross-functional efforts around systems architecture, software development, operational processes, and product features\\n- Excellent written and verbal communication skills\", \"preferred_qualifications\": \"\", \"education_experience\": \"\", \"additional_requirements\": \"\", \"pay_benefits\": \"At Apple, base pay is one part of our total compensation package and is determined within a range. This provides the opportunity to progress as you grow and develop within a role. The base pay range for this role is between $164,200 and $285,900, and your base pay will depend on your skills, qualifications, experience, and location.\\n\\nApple employees also have the opportunity to become an Apple shareholder through participation in Apple’s discretionary employee stock programs. Apple employees are eligible for discretionary restricted stock unit awards, and can purchase Apple stock at a discount if voluntarily participating in Apple’s Employee Stock Purchase Plan. You’ll also receive benefits including: Comprehensive medical and dental coverage, retirement benefits, a range of discounted products and free services, and for formal education related to advancing your career at Apple, reimbursement for certain educational expenses — including tuition. Additionally, this role might be eligible for discretionary bonuses or commission payments as well as relocation. <a href=\\\"https://www.apple.com/careers/us/benefits.html\\\" target=\\\"_blank\\\">Learn more</a> about Apple Benefits.\\n\\nNote: Apple benefit, compensation and employee stock programs are subject to eligibility requirements and other terms of the applicable plan or program.\"}\n",
      "```\n"
     ]
    }
   ],
   "source": [
    "cnt = 0\n",
    "for file_name in os.listdir(apple_html_jobs_dir):\n",
    "    #print(file)\n",
    "    apple_job_html_file_path = os.path.join(apple_html_jobs_dir, file_name)\n",
    "    page_str=''\n",
    "\n",
    "    with open(apple_job_html_file_path, 'r') as file:\n",
    "        page_str = file.read()\n",
    "    #print(html_str)\n",
    "    \n",
    "    soup = BeautifulSoup(page_str, \"html.parser\")\n",
    "    results = soup.find_all(\"section\", attrs={'id': 'app'})\n",
    "    #print(str(results[0]))\n",
    "    html_str=str(results[0])\n",
    "\n",
    "    reply = html_parser_agent.generate_reply(\n",
    "        messages=[{\"content\": html_str, \"role\": \"user\"}]\n",
    "    )\n",
    "\n",
    "    if reply:\n",
    "        print(reply['content'])\n",
    "        if cnt > 2:\n",
    "            break \n",
    "        cnt+=1"
   ]
  }
 ],
 "metadata": {
  "kernelspec": {
   "display_name": "Python 3",
   "language": "python",
   "name": "python3"
  },
  "language_info": {
   "codemirror_mode": {
    "name": "ipython",
    "version": 3
   },
   "file_extension": ".py",
   "mimetype": "text/x-python",
   "name": "python",
   "nbconvert_exporter": "python",
   "pygments_lexer": "ipython3",
   "version": "3.10.13"
  }
 },
 "nbformat": 4,
 "nbformat_minor": 2
}
