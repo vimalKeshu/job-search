{
 "cells": [
  {
   "cell_type": "code",
   "execution_count": 3,
   "metadata": {},
   "outputs": [],
   "source": [
    "import os\n",
    "import json\n",
    "from autogen import ConversableAgent\n",
    "from bs4 import BeautifulSoup\n",
    "\n",
    "# Define your model configuration\n",
    "OPENAI_API_KEY = os.getenv(\"OPENAI_API_KEY\")\n",
    "llm_config = {\"model\": \"gpt-4o-mini\"}\n",
    "google_html_jobs_dir = '/Users/vimal.chaudhari/Downloads/vimalKeshu/job-search/backend/crawler/google/jobs/'\n",
    "google_json_jobs_dir = '/Users/vimal.chaudhari/Downloads/vimalKeshu/job-search/backend/crawler/google/jobs/json'\n",
    "job_url = \"https://www.google.com/about/careers/applications/jobs/results/{}\"\n",
    "\n",
    "html_parser_prompt = '''\n",
    "You are html parser.you here to retrieve the text information from the given html page if present.\n",
    "Provide the answer in below python parsable json string:\n",
    "{\"title\": job title as string else empty string, \"level\": job level as string else empty string,\"location\": job location as string else empty string,\"description\": about job description as string else empty string,\"salary\": salary range as string else empty string,\"key_qualifications\": job Minimum qualifications as string or empty string, \"preferred_qualifications\": job preferred qualifications as string else empty string, \"responsibilities\": job Responsibilities as string else empty string}\n",
    "Do not ask for other information. If you don't get information, return answer with empty json.\n",
    "'''\n",
    "\n",
    "def load_visited_files(dir=google_json_jobs_dir)-> set:\n",
    "    visited:set = set()\n",
    "    for file in os.listdir(dir):\n",
    "        jid = file.replace('.json','')\n",
    "        visited.add(jid)\n",
    "    return visited\n",
    "\n",
    "html_parser_agent = ConversableAgent(\n",
    "    name=\"html_parser\",\n",
    "    system_message=html_parser_prompt,\n",
    "    llm_config=llm_config,\n",
    "    code_execution_config=False,\n",
    "    human_input_mode=\"NEVER\",\n",
    "    max_consecutive_auto_reply=1\n",
    ")"
   ]
  },
  {
   "cell_type": "code",
   "execution_count": 4,
   "metadata": {},
   "outputs": [
    {
     "name": "stdout",
     "output_type": "stream",
     "text": [
      "{\"title\": \"Systems Development Engineer, Observability, Public Sector\", \"level\": \"Mid\", \"location\": \"Reston, VA, USA\", \"description\": \"As a Systems Development Engineer (SDE) at Google, you will manage services and systems at scale. You will creatively put your engineering discipline to use automating the mundane and reducing toil. We emphasize the development of tools and solutions that fix classes of problems. We focus on observability, instrumenting first, then turning data into knowledge, and finally knowledge into action. We focus on building and influencing solutions that can manage the production of air-gapped cloud environments, derived from our experience running and managing these environments. We're especially interested in improving quality metrics and telemetry so we can find and fix problems right away. In this role, you'll work closely with operations teams, product teams, and Program Managers to balance quick responses, future development, and meeting business needs.\", \"salary\": \"$142,000-$211,000 + bonus + equity + benefits\", \"key_qualifications\": \"Bachelor's degree in Computer Science or IT-related field, or equivalent practical experience. 5 years of experience with systems automation, and with systems design and implementation. Experience in coding or scripting in languages including Go, Python, Java or Bash. Active US Government Top Secret/Sensitive Compartmentalized Information (TS/SCI) security clearance with polygraph.\", \"preferred_qualifications\": \"5 years of experience in Kubernetes. Experience with Linux/Linux Kernel. Experience in Monitoring solutions (e.g., CheckMK, Grafana, Nagios, Zabbix, Prometheus). Knowledge of networking fundamentals (e.g., TCP/IP, Routing, VLANs, Load Balancing, etc.).\", \"responsibilities\": \"Work closely with internal teams to keep our production infrastructure running smoothly. Lead the design and implementation of large and complex systems that help the team achieve its goals. Troubleshoot technical issues, evaluate technical data, and develop recommendations for systems and services within the domain. Participate in on-call service rotation. Contribute to maintaining systems, as well as occasionally writing documentation and developing or integrating new components.\", \"company\": \"google\", \"url\": \"https://www.google.com/about/careers/applications/jobs/results/108580628047241926\"}\n"
     ]
    }
   ],
   "source": [
    "cnt = 0\n",
    "visited:set = load_visited_files()\n",
    "\n",
    "for html_file_name in os.listdir(google_html_jobs_dir):\n",
    "    google_job_html_file_path = os.path.join(google_html_jobs_dir, html_file_name)\n",
    "    page_str=''\n",
    "    job_id = html_file_name.replace('.html','')\n",
    "\n",
    "    # if job_id in visited:\n",
    "    #     print('visited: '+job_id)\n",
    "    #     continue\n",
    "    \n",
    "    if job_id != '108580628047241926':\n",
    "        continue\n",
    "\n",
    "    with open(google_job_html_file_path, 'r') as file:\n",
    "        page_str = file.read()\n",
    "    \n",
    "    soup = BeautifulSoup(page_str, \"html.parser\")\n",
    "    results = soup.find_all(\"div\", attrs={'data-id': job_id})\n",
    "    #print(str(results[0]))\n",
    "    if not results:\n",
    "        continue\n",
    "    html_str=str(results[0])\n",
    "\n",
    "    reply = html_parser_agent.generate_reply(\n",
    "        messages=[{\"content\": html_str, \"role\": \"user\"}]\n",
    "    )\n",
    "\n",
    "    if reply:\n",
    "        message = reply\n",
    "        message = message.replace(\"```json\",'')\n",
    "        message = message.replace(\"```\",'')\n",
    "        job_json = json.loads(message)\n",
    "        job_json['company'] = 'google'\n",
    "        job_json['url'] = job_url.format(job_id)\n",
    "        job_json_str = json.dumps(job_json)\n",
    "        print(job_json_str)\n",
    "        # json_path = os.path.join(google_json_jobs_dir, job_id + '.json')\n",
    "        # with open(json_path, 'w') as file:\n",
    "        #     file.write(job_json_str)\n",
    "        # print('written: ' + json_path)\n",
    "    if cnt > 2:\n",
    "        break \n",
    "    cnt+=1"
   ]
  }
 ],
 "metadata": {
  "kernelspec": {
   "display_name": "Python 3",
   "language": "python",
   "name": "python3"
  },
  "language_info": {
   "codemirror_mode": {
    "name": "ipython",
    "version": 3
   },
   "file_extension": ".py",
   "mimetype": "text/x-python",
   "name": "python",
   "nbconvert_exporter": "python",
   "pygments_lexer": "ipython3",
   "version": "3.10.13"
  }
 },
 "nbformat": 4,
 "nbformat_minor": 2
}
