{
 "cells": [
  {
   "cell_type": "code",
   "execution_count": 2,
   "metadata": {},
   "outputs": [],
   "source": [
    "import os\n",
    "import json\n",
    "import sys\n",
    "\n",
    "from autogen import ConversableAgent\n",
    "from bs4 import BeautifulSoup\n",
    "\n",
    "\n",
    "# Define your model configuration\n",
    "OPENAI_API_KEY = os.getenv(\"OPENAI_API_KEY\")\n",
    "# llm_config = {\"model\": \"gpt-3.5-turbo\"}\n",
    "llm_config = {\"model\": \"gpt-4o-mini\"}\n",
    "meta_html_jobs_dir = '/Users/vimal.chaudhari/Downloads/vimalKeshu/job-search/backend/crawler/meta/jobs'\n",
    "meta_json_jobs_dir = '/Users/vimal.chaudhari/Downloads/vimalKeshu/job-search/backend/crawler/meta/jobs/json'\n",
    "meta_job_url = \"https://www.metacareers.com/jobs/{}\"\n",
    "\n",
    "html_parser_prompt = '''\n",
    "You are html parser.you here to retrieve the text information from the given html page if present.\n",
    "Provide the answer in below python parsable json string:\n",
    "{\"title\": job title as string else empty string, \"level\": job level as string else empty string,\"location\": job location as string else empty string,\"description\": about job description as string else empty string,\"salary\": salary range as string else empty string,\"key_qualifications\": job Minimum qualifications as string or empty string, \"preferred_qualifications\": job preferred qualifications as string else empty string, \"responsibilities\": job Responsibilities as string else empty string}\n",
    "Do not ask for other information. If you don't get information, return answer with empty json.\n",
    "'''\n",
    "\n",
    "def load_visited_files(dir=meta_json_jobs_dir)-> set:\n",
    "    visited:set = set()\n",
    "    for file in os.listdir(dir):\n",
    "        jid = file.replace('.json','')\n",
    "        visited.add(jid)\n",
    "    return visited\n",
    "\n",
    "html_parser_agent = ConversableAgent(\n",
    "    name=\"html_parser\",\n",
    "    system_message=html_parser_prompt,\n",
    "    llm_config=llm_config,\n",
    "    code_execution_config=False,\n",
    "    human_input_mode=\"NEVER\",\n",
    "    max_consecutive_auto_reply=1\n",
    ")"
   ]
  },
  {
   "cell_type": "code",
   "execution_count": 3,
   "metadata": {},
   "outputs": [
    {
     "name": "stdout",
     "output_type": "stream",
     "text": [
      "{\"title\": \"Localization Program Manager, Reality Labs Testing\", \"level\": \"\", \"location\": \"Bellevue, WA | Menlo Park, CA | Seattle, WA | New York, NY\", \"description\": \"Languages are key to our mission of bringing the world closer together. The Meta family of products is currently available in 100+ languages and we are adding many more. Over 70% of people use our products in a language other than English, and ~90% are outside of North America. As a Localization Program Manager for Reality Labs Testing, you will partner with stakeholders across Reality Labs and the rest of internationalization teams to ensure extended reality experiences on our products feel local in each market.\", \"salary\": \"US$129,000/year to US$185,000/year + bonus + equity + benefits\", \"key_qualifications\": \"5+ years experience in program management, including experience shipping large-scale global products. Track record of gaining alignment with cross-org stakeholders with competing priorities and goals. Experience using SQL to aggregate, analyze and interpret complex data sets to inform business decisions. Experience implementing and managing localization testing programs for software and web content. Skilled in building simple and optimized workflows to support complex product launches. Experience communicating and driving results with a variety of cross-functional stakeholders, working across time zones and international offices. Track record of staying focused, prioritizing and creating structure across large, ambiguous programs and setting goals for long-term initiatives. Thorough understanding of translation technologies like translation memories, machine translation, and CAT tools.\", \"preferred_qualifications\": \"Experience with localization testing of hardware products. Experience managing localization programs for large scale hardware or software launches. Familiarity and passion for AR/MR products and experiences. Experience launching global retail hardware products. Knowledge of additional languages other than English. Thorough understanding of product Quality Assurance processes and best practices. Experience using Python to process and analyze data.\", \"responsibilities\": \"Design and implement a scalable localization testing framework to ensure high-quality localized extended reality experiences across hardware, software and retail surfaces for rapidly developing products. Engage and build relationships with cross functional teams and stakeholders to drive adoption and maximize coverage of the scalable localization testing program. Partner with Reality Labs Localization Program Managers to craft localization testing strategies for priority products and technologies. Improve scalability via automation and standardization to the highest degree possible while ensuring maximum value to Reality Labs products and extended reality experiences. Provide expertise on localization testing best practices to other localization program managers and stakeholders across Meta. Partner with localization testing vendors to onboard, train, prioritize and manage testing work to meet program requirements. Utilize signals coming from Localization Testing outcomes to determine actions to improve localized product quality.\", \"company\": \"google\", \"url\": \"https://www.metacareers.com/jobs/484504290569452\"}\n",
      "{\"title\": \"\", \"level\": \"\", \"location\": \"\", \"description\": \"\", \"salary\": \"\", \"key_qualifications\": \"\", \"preferred_qualifications\": \"\", \"responsibilities\": \"\", \"company\": \"google\", \"url\": \"https://www.metacareers.com/jobs/434245752848424\"}\n"
     ]
    }
   ],
   "source": [
    "cnt = 0\n",
    "visited:set = load_visited_files()\n",
    "\n",
    "for html_file_name in os.listdir(meta_html_jobs_dir):\n",
    "    google_job_html_file_path = os.path.join(meta_html_jobs_dir, html_file_name)\n",
    "    page_str=''\n",
    "    job_id = html_file_name.replace('.html','')\n",
    "\n",
    "    # if job_id in visited:\n",
    "    #     print('visited: '+job_id)\n",
    "    #     continue\n",
    "    \n",
    "    with open(google_job_html_file_path, 'r') as file:\n",
    "        page_str = file.read()\n",
    "    \n",
    "    soup = BeautifulSoup(page_str, \"html.parser\")\n",
    "    results = soup.find_all(\"div\", attrs={'id': 'careersContentContainer'})\n",
    "    #print(str(results[0]))\n",
    "    html_str=str(results[0])\n",
    "\n",
    "    reply = html_parser_agent.generate_reply(\n",
    "        messages=[{\"content\": html_str, \"role\": \"user\"}]\n",
    "    )\n",
    "\n",
    "    if reply:\n",
    "        message = reply\n",
    "        message = message.replace(\"```json\",'')\n",
    "        message = message.replace(\"```\",'')\n",
    "        job_json = json.loads(message)\n",
    "        job_json['company'] = 'meta'\n",
    "        job_json['url'] = meta_job_url.format(job_id)\n",
    "        job_json_str = json.dumps(job_json)\n",
    "        print(job_json_str)\n",
    "        # json_path = os.path.join(google_json_jobs_dir, job_id + '.json')\n",
    "        # with open(json_path, 'w') as file:\n",
    "        #     file.write(job_json_str)\n",
    "        # print('written: ' + json_path)\n",
    "    if cnt > 2:\n",
    "        break \n",
    "    cnt+=1"
   ]
  }
 ],
 "metadata": {
  "kernelspec": {
   "display_name": "Python 3",
   "language": "python",
   "name": "python3"
  },
  "language_info": {
   "codemirror_mode": {
    "name": "ipython",
    "version": 3
   },
   "file_extension": ".py",
   "mimetype": "text/x-python",
   "name": "python",
   "nbconvert_exporter": "python",
   "pygments_lexer": "ipython3",
   "version": "3.10.13"
  }
 },
 "nbformat": 4,
 "nbformat_minor": 2
}
